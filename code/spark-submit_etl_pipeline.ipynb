{
 "cells": [
  {
   "cell_type": "code",
   "execution_count": 47,
   "metadata": {},
   "outputs": [],
   "source": [
    "from pyspark.sql import SparkSession\n",
    "from pyspark.sql.functions import col\n",
    "\n",
    "# 1. Khởi tạo SparkSession với cấu hình HDFS\n",
    "spark = SparkSession.builder \\\n",
    "    .appName(\"DataLake_ETL\") \\\n",
    "    .config(\"spark.hadoop.fs.defaultFS\", \"hdfs://localhost:9000\") \\\n",
    "    .getOrCreate()\n"
   ]
  },
  {
   "cell_type": "code",
   "execution_count": 48,
   "metadata": {},
   "outputs": [
    {
     "name": "stdout",
     "output_type": "stream",
     "text": [
      "Đang đọc dữ liệu từ các file CSV...\n",
      "Dữ liệu Courses:\n",
      "+---------+--------------------+-------+--------------------+\n",
      "|Course_ID|         Course_Name|Credits|          Instructor|\n",
      "+---------+--------------------+-------+--------------------+\n",
      "|    DS101|Nhập môn Khoa học...|      3|  TS. Nguyễn Thị Hoa|\n",
      "|    DS102|   Xử lý dữ liệu lớn|      4|   TS. Trần Văn Minh|\n",
      "|    DS103|   Phân tích dữ liệu|      3|PGS. TS. Lê Thị T...|\n",
      "|    DS104|      Học máy cơ bản|      4| TS. Nguyễn Văn Hùng|\n",
      "|    DS105|             Học sâu|      3|PGS. TS. Phạm Quố...|\n",
      "+---------+--------------------+-------+--------------------+\n",
      "only showing top 5 rows\n",
      "\n",
      "Dữ liệu Devices:\n",
      "+---------+-----------+-------+-------+\n",
      "|Device_ID|Device_Type|Room_ID| Status|\n",
      "+---------+-----------+-------+-------+\n",
      "|     D101|        Mic|   C101|Working|\n",
      "|     D102|        Mic|   C102|Working|\n",
      "|     D103|   Computer|   C103|Working|\n",
      "|     D104|  Projector|   C104|Working|\n",
      "|     D105|        Mic|   C105|Working|\n",
      "+---------+-----------+-------+-------+\n",
      "only showing top 5 rows\n",
      "\n"
     ]
    }
   ],
   "source": [
    "# 2. Đọc dữ liệu từ các file CSV đã tạo\n",
    "print(\"Đang đọc dữ liệu từ các file CSV...\")\n",
    "students = spark.read.csv(\"hdfs://localhost:9000/data/students_expanded.csv\", header=True, inferSchema=True)\n",
    "courses = spark.read.csv(\"hdfs://localhost:9000/data/courses_expanded.csv\", header=True, inferSchema=True)\n",
    "rooms = spark.read.csv(\"hdfs://localhost:9000/data/rooms_expanded.csv\", header=True, inferSchema=True)\n",
    "devices = spark.read.csv(\"hdfs://localhost:9000/data/devices_expanded.csv\", header=True, inferSchema=True)\n",
    "logs = spark.read.csv(\"hdfs://localhost:9000/data/logs_expanded.csv\", header=True, inferSchema=True)\n",
    "\n",
    "# Xem trước dữ liệu đầu vào\n",
    "print(\"Dữ liệu Courses:\")\n",
    "courses.show(5)\n",
    "print(\"Dữ liệu Devices:\")\n",
    "devices.show(5)"
   ]
  },
  {
   "cell_type": "code",
   "execution_count": 49,
   "metadata": {},
   "outputs": [
    {
     "name": "stdout",
     "output_type": "stream",
     "text": [
      "Làm sạch và xử lý dữ liệu...\n",
      "Students đã làm sạch:\n",
      "+----------+--------------+----------------+----+--------+\n",
      "|Student_ID|          Name|           Major|Year|  Status|\n",
      "+----------+--------------+----------------+----+--------+\n",
      "|      2004|  Phạm Thị Yến|Khoa học dữ liệu|   4|  Active|\n",
      "|      2003|Trần Văn Khánh|Khoa học dữ liệu|   3|  Active|\n",
      "|      2005|Hoàng Minh Trí|Khoa học dữ liệu|   1|  Active|\n",
      "|      2007|Đặng Quang Huy|Khoa học dữ liệu|   3|  Active|\n",
      "|      2010|  Bùi Thị Thảo|Khoa học dữ liệu|   2|  Active|\n",
      "|      2006|    Võ Thị Cẩm|Khoa học dữ liệu|   2|  Active|\n",
      "|      2008|Nguyễn Thị Mai|Khoa học dữ liệu|   4|  Active|\n",
      "|      2009|  Phạm Văn Tân|Khoa học dữ liệu|   1|  Active|\n",
      "|      2001|Nguyễn Văn Anh|Khoa học dữ liệu|   1|Inactive|\n",
      "|      2002|  Lê Thị Hương|Khoa học dữ liệu|   2|Inactive|\n",
      "+----------+--------------+----------------+----+--------+\n",
      "\n"
     ]
    }
   ],
   "source": [
    "# 3. Làm sạch và xử lý dữ liệu\n",
    "print(\"Làm sạch và xử lý dữ liệu...\")\n",
    "\n",
    "# Xử lý Students: Xóa dòng có cột null, loại bỏ trùng lặp\n",
    "students_clean = students.dropna().dropDuplicates()\n",
    "print(\"Students đã làm sạch:\")\n",
    "students_clean.show()\n"
   ]
  },
  {
   "cell_type": "code",
   "execution_count": 50,
   "metadata": {},
   "outputs": [
    {
     "name": "stdout",
     "output_type": "stream",
     "text": [
      "Courses đã làm sạch:\n",
      "+---------+--------------------+-------+--------------------+\n",
      "|Course_ID|         Course_Name|Credits|          Instructor|\n",
      "+---------+--------------------+-------+--------------------+\n",
      "|    DS105|             Học sâu|      3|PGS. TS. Phạm Quố...|\n",
      "|    DS107|   Thị giác máy tính|      4|   TS. Phạm Thị Hồng|\n",
      "|    DS103|   Phân tích dữ liệu|      3|PGS. TS. Lê Thị T...|\n",
      "|    DS101|Nhập môn Khoa học...|      3|  TS. Nguyễn Thị Hoa|\n",
      "|    DS106|Xử lý ngôn ngữ tự...|      3|    TS. Võ Hoàng Yến|\n",
      "|    DS110|Dự báo chuỗi thời...|      4|    TS. Đặng Thị Lan|\n",
      "|    DS109|Phân tích mạng xã...|      3| TS. Nguyễn Đức Hùng|\n",
      "|    DS102|   Xử lý dữ liệu lớn|      4|   TS. Trần Văn Minh|\n",
      "|    DS108|    Khai phá dữ liệu|      3|PGS. TS. Lê Quốc Bảo|\n",
      "|    DS104|      Học máy cơ bản|      4| TS. Nguyễn Văn Hùng|\n",
      "+---------+--------------------+-------+--------------------+\n",
      "\n"
     ]
    }
   ],
   "source": [
    "# Xử lý Courses: Xóa dòng null, loại bỏ trùng lặp\n",
    "courses_clean = courses.dropna().dropDuplicates()\n",
    "print(\"Courses đã làm sạch:\")\n",
    "courses_clean.show()"
   ]
  },
  {
   "cell_type": "code",
   "execution_count": 51,
   "metadata": {},
   "outputs": [
    {
     "name": "stdout",
     "output_type": "stream",
     "text": [
      "Rooms đã làm sạch:\n",
      "+-------+------------+--------+---------+\n",
      "|Room_ID|        Type|Capacity|   Status|\n",
      "+-------+------------+--------+---------+\n",
      "|   C205|Lecture Hall|      30|Available|\n",
      "|   C204|Lecture Hall|      50|Available|\n",
      "|   C201|Lecture Hall|     100|Available|\n",
      "|   C104|Lecture Hall|      30|Available|\n",
      "|   C102|         Lab|     100|Available|\n",
      "|   C202|         Lab|      50|Available|\n",
      "|   C203|         Lab|     100|Available|\n",
      "|   C103|Lecture Hall|      50|Available|\n",
      "|   C101|Lecture Hall|     100|Available|\n",
      "+-------+------------+--------+---------+\n",
      "\n"
     ]
    }
   ],
   "source": [
    "# Xử lý Rooms: Giữ phòng có trạng thái \"Available\"\n",
    "rooms_clean = rooms.filter(col(\"Status\") == \"Available\").dropDuplicates()\n",
    "print(\"Rooms đã làm sạch:\")\n",
    "rooms_clean.show()"
   ]
  },
  {
   "cell_type": "code",
   "execution_count": 52,
   "metadata": {},
   "outputs": [
    {
     "name": "stdout",
     "output_type": "stream",
     "text": [
      "Devices đã làm sạch:\n",
      "+---------+-----------+-------+-------+\n",
      "|Device_ID|Device_Type|Room_ID| Status|\n",
      "+---------+-----------+-------+-------+\n",
      "|     D105|        Mic|   C105|Working|\n",
      "|     D109|  Projector|   C204|Working|\n",
      "|     D106|   Computer|   C201|Working|\n",
      "|     D102|        Mic|   C102|Working|\n",
      "|     D104|  Projector|   C104|Working|\n",
      "|     D110|   Computer|   C205|Working|\n",
      "|     D103|   Computer|   C103|Working|\n",
      "|     D101|        Mic|   C101|Working|\n",
      "|     D108|  Projector|   C203|Working|\n",
      "|     D107|  Projector|   C202|Working|\n",
      "+---------+-----------+-------+-------+\n",
      "\n"
     ]
    }
   ],
   "source": [
    "\n",
    "# Xử lý Devices: Chỉ giữ thiết bị có trạng thái \"Working\"\n",
    "devices_clean = devices.filter(col(\"Status\") == \"Working\").dropDuplicates()\n",
    "print(\"Devices đã làm sạch:\")\n",
    "devices_clean.show()"
   ]
  },
  {
   "cell_type": "code",
   "execution_count": 53,
   "metadata": {},
   "outputs": [
    {
     "name": "stdout",
     "output_type": "stream",
     "text": [
      "Logs đã làm sạch:\n",
      "+------+-------+------------------+-------------------+\n",
      "|Log_ID|Room_ID|             Event|          Timestamp|\n",
      "+------+-------+------------------+-------------------+\n",
      "|    10|   C203|   Class Scheduled|2024-12-10 00:00:00|\n",
      "|     5|   C102|Device Maintenance|2024-12-05 00:00:00|\n",
      "|     7|   C205|Device Maintenance|2024-12-07 00:00:00|\n",
      "|     9|   C104|Device Maintenance|2024-12-09 00:00:00|\n",
      "|     1|   C204|     Room Cleaning|2024-12-01 00:00:00|\n",
      "|     8|   C201|   Class Scheduled|2024-12-08 00:00:00|\n",
      "|     2|   C205|   Class Scheduled|2024-12-02 00:00:00|\n",
      "|     4|   C203|Device Maintenance|2024-12-04 00:00:00|\n",
      "|     3|   C201|Device Maintenance|2024-12-03 00:00:00|\n",
      "|     6|   C102|   Class Scheduled|2024-12-06 00:00:00|\n",
      "+------+-------+------------------+-------------------+\n",
      "\n"
     ]
    }
   ],
   "source": [
    "# Xử lý Logs: Loại bỏ trùng lặp và làm sạch dữ liệu sự kiện\n",
    "logs_clean = logs.dropna().dropDuplicates()\n",
    "print(\"Logs đã làm sạch:\")\n",
    "logs_clean.show()"
   ]
  },
  {
   "cell_type": "code",
   "execution_count": 54,
   "metadata": {},
   "outputs": [
    {
     "name": "stdout",
     "output_type": "stream",
     "text": [
      "Ghi dữ liệu đã xử lý vào Processed Zone trên HDFS...\n",
      "Dữ liệu đã được ghi thành công vào Processed Zone!\n"
     ]
    }
   ],
   "source": [
    "# 4. Ghi dữ liệu đã xử lý vào Processed Zone trên HDFS\n",
    "print(\"Ghi dữ liệu đã xử lý vào Processed Zone trên HDFS...\")\n",
    "students_clean.write.parquet(\"hdfs://localhost:9000/data/processed/students_clean\", mode=\"overwrite\")\n",
    "courses_clean.write.parquet(\"hdfs://localhost:9000/data/processed/courses_clean\", mode=\"overwrite\")\n",
    "rooms_clean.write.parquet(\"hdfs://localhost:9000/data/processed/rooms_clean\", mode=\"overwrite\")\n",
    "devices_clean.write.parquet(\"hdfs://localhost:9000/data/processed/devices_clean\", mode=\"overwrite\")\n",
    "logs_clean.write.parquet(\"hdfs://localhost:9000/data/processed/logs_clean\", mode=\"overwrite\")\n",
    "\n",
    "print(\"Dữ liệu đã được ghi thành công vào Processed Zone!\")\n"
   ]
  },
  {
   "cell_type": "code",
   "execution_count": 55,
   "metadata": {},
   "outputs": [
    {
     "name": "stdout",
     "output_type": "stream",
     "text": [
      "Đọc lại dữ liệu từ Processed Zone để kiểm tra...\n"
     ]
    }
   ],
   "source": [
    "# 5. Kiểm tra kết quả ghi thành công\n",
    "print(\"Đọc lại dữ liệu từ Processed Zone để kiểm tra...\")\n",
    "students_final = spark.read.parquet(\"hdfs://localhost:9000/data/processed/students_clean\")\n",
    "courses_final = spark.read.parquet(\"hdfs://localhost:9000/data/processed/courses_clean\")\n",
    "rooms_final = spark.read.parquet(\"hdfs://localhost:9000/data/processed/rooms_clean\")\n",
    "devices_final = spark.read.parquet(\"hdfs://localhost:9000/data/processed/devices_clean\")\n",
    "logs_final = spark.read.parquet(\"hdfs://localhost:9000/data/processed/logs_clean\")"
   ]
  },
  {
   "cell_type": "code",
   "execution_count": 56,
   "metadata": {},
   "outputs": [
    {
     "name": "stdout",
     "output_type": "stream",
     "text": [
      "Dữ liệu Students cuối cùng:\n",
      "+----------+--------------+----------------+----+--------+\n",
      "|Student_ID|          Name|           Major|Year|  Status|\n",
      "+----------+--------------+----------------+----+--------+\n",
      "|      2004|  Phạm Thị Yến|Khoa học dữ liệu|   4|  Active|\n",
      "|      2003|Trần Văn Khánh|Khoa học dữ liệu|   3|  Active|\n",
      "|      2005|Hoàng Minh Trí|Khoa học dữ liệu|   1|  Active|\n",
      "|      2007|Đặng Quang Huy|Khoa học dữ liệu|   3|  Active|\n",
      "|      2010|  Bùi Thị Thảo|Khoa học dữ liệu|   2|  Active|\n",
      "|      2006|    Võ Thị Cẩm|Khoa học dữ liệu|   2|  Active|\n",
      "|      2008|Nguyễn Thị Mai|Khoa học dữ liệu|   4|  Active|\n",
      "|      2009|  Phạm Văn Tân|Khoa học dữ liệu|   1|  Active|\n",
      "|      2001|Nguyễn Văn Anh|Khoa học dữ liệu|   1|Inactive|\n",
      "|      2002|  Lê Thị Hương|Khoa học dữ liệu|   2|Inactive|\n",
      "+----------+--------------+----------------+----+--------+\n",
      "\n",
      "Dữ liệu Courses cuối cùng:\n",
      "+---------+--------------------+-------+--------------------+\n",
      "|Course_ID|         Course_Name|Credits|          Instructor|\n",
      "+---------+--------------------+-------+--------------------+\n",
      "|    DS105|             Học sâu|      3|PGS. TS. Phạm Quố...|\n",
      "|    DS107|   Thị giác máy tính|      4|   TS. Phạm Thị Hồng|\n",
      "|    DS103|   Phân tích dữ liệu|      3|PGS. TS. Lê Thị T...|\n",
      "|    DS101|Nhập môn Khoa học...|      3|  TS. Nguyễn Thị Hoa|\n",
      "|    DS106|Xử lý ngôn ngữ tự...|      3|    TS. Võ Hoàng Yến|\n",
      "|    DS110|Dự báo chuỗi thời...|      4|    TS. Đặng Thị Lan|\n",
      "|    DS109|Phân tích mạng xã...|      3| TS. Nguyễn Đức Hùng|\n",
      "|    DS102|   Xử lý dữ liệu lớn|      4|   TS. Trần Văn Minh|\n",
      "|    DS108|    Khai phá dữ liệu|      3|PGS. TS. Lê Quốc Bảo|\n",
      "|    DS104|      Học máy cơ bản|      4| TS. Nguyễn Văn Hùng|\n",
      "+---------+--------------------+-------+--------------------+\n",
      "\n",
      "Dữ liệu Rooms cuối cùng:\n"
     ]
    }
   ],
   "source": [
    "print(\"Dữ liệu Students cuối cùng:\")\n",
    "students_final.show()\n",
    "print(\"Dữ liệu Courses cuối cùng:\")\n",
    "courses_final.show()\n",
    "print(\"Dữ liệu Rooms cuối cùng:\")\n"
   ]
  },
  {
   "cell_type": "code",
   "execution_count": 57,
   "metadata": {},
   "outputs": [
    {
     "name": "stdout",
     "output_type": "stream",
     "text": [
      "+-------+------------+--------+---------+\n",
      "|Room_ID|        Type|Capacity|   Status|\n",
      "+-------+------------+--------+---------+\n",
      "|   C205|Lecture Hall|      30|Available|\n",
      "|   C204|Lecture Hall|      50|Available|\n",
      "|   C201|Lecture Hall|     100|Available|\n",
      "|   C104|Lecture Hall|      30|Available|\n",
      "|   C102|         Lab|     100|Available|\n",
      "|   C202|         Lab|      50|Available|\n",
      "|   C203|         Lab|     100|Available|\n",
      "|   C103|Lecture Hall|      50|Available|\n",
      "|   C101|Lecture Hall|     100|Available|\n",
      "+-------+------------+--------+---------+\n",
      "\n",
      "Dữ liệu Devices cuối cùng:\n",
      "+---------+-----------+-------+-------+\n",
      "|Device_ID|Device_Type|Room_ID| Status|\n",
      "+---------+-----------+-------+-------+\n",
      "|     D105|        Mic|   C105|Working|\n",
      "|     D109|  Projector|   C204|Working|\n",
      "|     D106|   Computer|   C201|Working|\n",
      "|     D102|        Mic|   C102|Working|\n",
      "|     D104|  Projector|   C104|Working|\n",
      "|     D110|   Computer|   C205|Working|\n",
      "|     D103|   Computer|   C103|Working|\n",
      "|     D101|        Mic|   C101|Working|\n",
      "|     D108|  Projector|   C203|Working|\n",
      "|     D107|  Projector|   C202|Working|\n",
      "+---------+-----------+-------+-------+\n",
      "\n",
      "Dữ liệu Logs cuối cùng:\n"
     ]
    }
   ],
   "source": [
    "rooms_final.show()\n",
    "print(\"Dữ liệu Devices cuối cùng:\")\n",
    "devices_final.show()\n",
    "print(\"Dữ liệu Logs cuối cùng:\")\n"
   ]
  },
  {
   "cell_type": "code",
   "execution_count": 58,
   "metadata": {},
   "outputs": [
    {
     "name": "stdout",
     "output_type": "stream",
     "text": [
      "+------+-------+------------------+-------------------+\n",
      "|Log_ID|Room_ID|             Event|          Timestamp|\n",
      "+------+-------+------------------+-------------------+\n",
      "|    10|   C203|   Class Scheduled|2024-12-10 00:00:00|\n",
      "|     5|   C102|Device Maintenance|2024-12-05 00:00:00|\n",
      "|     7|   C205|Device Maintenance|2024-12-07 00:00:00|\n",
      "|     9|   C104|Device Maintenance|2024-12-09 00:00:00|\n",
      "|     1|   C204|     Room Cleaning|2024-12-01 00:00:00|\n",
      "|     8|   C201|   Class Scheduled|2024-12-08 00:00:00|\n",
      "|     2|   C205|   Class Scheduled|2024-12-02 00:00:00|\n",
      "|     4|   C203|Device Maintenance|2024-12-04 00:00:00|\n",
      "|     3|   C201|Device Maintenance|2024-12-03 00:00:00|\n",
      "|     6|   C102|   Class Scheduled|2024-12-06 00:00:00|\n",
      "+------+-------+------------------+-------------------+\n",
      "\n"
     ]
    }
   ],
   "source": [
    "logs_final.show()"
   ]
  },
  {
   "cell_type": "code",
   "execution_count": 59,
   "metadata": {},
   "outputs": [],
   "source": [
    "# Bước 6.1: Phân Tích với Spark SQL\n",
    "# 3. Tạo các View để sử dụng Spark SQL\n",
    "students.createOrReplaceTempView(\"students\")\n",
    "courses.createOrReplaceTempView(\"courses\")\n",
    "rooms.createOrReplaceTempView(\"rooms\")\n",
    "devices.createOrReplaceTempView(\"devices\")\n",
    "logs.createOrReplaceTempView(\"logs\")\n"
   ]
  },
  {
   "cell_type": "code",
   "execution_count": 60,
   "metadata": {},
   "outputs": [
    {
     "name": "stdout",
     "output_type": "stream",
     "text": [
      "Tỷ lệ sinh viên theo trạng thái học tập:\n",
      "+--------+--------------+\n",
      "|  Status|Total_Students|\n",
      "+--------+--------------+\n",
      "|  Active|             8|\n",
      "|Inactive|             2|\n",
      "+--------+--------------+\n",
      "\n"
     ]
    }
   ],
   "source": [
    "# 4. Truy vấn dữ liệu\n",
    "\n",
    "# 4.1 Tỷ lệ sinh viên theo trạng thái học tập\n",
    "print(\"Tỷ lệ sinh viên theo trạng thái học tập:\")\n",
    "status_analysis = spark.sql(\"\"\"\n",
    "    SELECT Status, COUNT(*) AS Total_Students\n",
    "    FROM students\n",
    "    GROUP BY Status\n",
    "\"\"\")\n",
    "status_analysis.show()"
   ]
  },
  {
   "cell_type": "code",
   "execution_count": 61,
   "metadata": {},
   "outputs": [
    {
     "name": "stdout",
     "output_type": "stream",
     "text": [
      "Lớp học phần có nhiều sinh viên đăng ký nhất:\n",
      "+-----------+--------------+\n",
      "|Course_Name|Total_Students|\n",
      "+-----------+--------------+\n",
      "+-----------+--------------+\n",
      "\n"
     ]
    }
   ],
   "source": [
    "\n",
    "# 4.2 Lớp học phần có nhiều sinh viên đăng ký nhất\n",
    "print(\"Lớp học phần có nhiều sinh viên đăng ký nhất:\")\n",
    "top_courses = spark.sql(\"\"\"\n",
    "    SELECT c.Course_Name, COUNT(s.Student_ID) AS Total_Students\n",
    "    FROM students s\n",
    "    JOIN courses c\n",
    "    ON s.Major = c.Course_Name\n",
    "    GROUP BY c.Course_Name\n",
    "    ORDER BY Total_Students DESC\n",
    "    LIMIT 5\n",
    "\"\"\")\n",
    "top_courses.show()\n",
    "\n"
   ]
  },
  {
   "cell_type": "code",
   "execution_count": 62,
   "metadata": {},
   "outputs": [
    {
     "name": "stdout",
     "output_type": "stream",
     "text": [
      "Danh sách phòng học khả dụng:\n",
      "+-------+------------+--------+\n",
      "|Room_ID|        Type|Capacity|\n",
      "+-------+------------+--------+\n",
      "|   C101|Lecture Hall|     100|\n",
      "|   C102|         Lab|     100|\n",
      "|   C103|Lecture Hall|      50|\n",
      "|   C104|Lecture Hall|      30|\n",
      "|   C201|Lecture Hall|     100|\n",
      "|   C202|         Lab|      50|\n",
      "|   C203|         Lab|     100|\n",
      "|   C204|Lecture Hall|      50|\n",
      "|   C205|Lecture Hall|      30|\n",
      "+-------+------------+--------+\n",
      "\n"
     ]
    }
   ],
   "source": [
    "# 4.3 Phân bổ phòng học khả dụng\n",
    "print(\"Danh sách phòng học khả dụng:\")\n",
    "available_rooms = spark.sql(\"\"\"\n",
    "    SELECT Room_ID, Type, Capacity\n",
    "    FROM rooms\n",
    "    WHERE Status = 'Available'\n",
    "\"\"\")\n",
    "available_rooms.show()"
   ]
  },
  {
   "cell_type": "code",
   "execution_count": 63,
   "metadata": {},
   "outputs": [
    {
     "name": "stdout",
     "output_type": "stream",
     "text": [
      "Tần suất sử dụng phòng học:\n",
      "+-------+---------------+\n",
      "|Room_ID|Usage_Frequency|\n",
      "+-------+---------------+\n",
      "|   C201|              1|\n",
      "|   C102|              1|\n",
      "|   C205|              1|\n",
      "|   C203|              1|\n",
      "+-------+---------------+\n",
      "\n"
     ]
    }
   ],
   "source": [
    "# 4.4 Tần suất sử dụng phòng học\n",
    "print(\"Tần suất sử dụng phòng học:\")\n",
    "room_usage = spark.sql(\"\"\"\n",
    "    SELECT Room_ID, COUNT(*) AS Usage_Frequency\n",
    "    FROM logs\n",
    "    WHERE Event = 'Class Scheduled'\n",
    "    GROUP BY Room_ID\n",
    "    ORDER BY Usage_Frequency DESC\n",
    "\"\"\")\n",
    "room_usage.show()"
   ]
  },
  {
   "cell_type": "code",
   "execution_count": 64,
   "metadata": {},
   "outputs": [
    {
     "name": "stdout",
     "output_type": "stream",
     "text": [
      "Trạng thái thiết bị đang hoạt động:\n",
      "+-----------+-------------+\n",
      "|Device_Type|Total_Working|\n",
      "+-----------+-------------+\n",
      "|        Mic|            3|\n",
      "|  Projector|            4|\n",
      "|   Computer|            3|\n",
      "+-----------+-------------+\n",
      "\n"
     ]
    }
   ],
   "source": [
    "# 4.5 Phân tích thiết bị đang hoạt động\n",
    "print(\"Trạng thái thiết bị đang hoạt động:\")\n",
    "device_status = spark.sql(\"\"\"\n",
    "    SELECT Device_Type, COUNT(*) AS Total_Working\n",
    "    FROM devices\n",
    "    WHERE Status = 'Working'\n",
    "    GROUP BY Device_Type\n",
    "\"\"\")\n",
    "device_status.show()"
   ]
  },
  {
   "cell_type": "code",
   "execution_count": 65,
   "metadata": {},
   "outputs": [],
   "source": [
    "import pandas as pd\n",
    "import matplotlib.pyplot as plt\n",
    "import seaborn as sns\n"
   ]
  },
  {
   "cell_type": "code",
   "execution_count": 67,
   "metadata": {},
   "outputs": [
    {
     "data": {
      "image/png": "[encoded data removed]",
      "text/plain": [
       "<Figure size 800x600 with 1 Axes>"
      ]
     },
     "metadata": {},
     "output_type": "display_data"
    }
   ],
   "source": [
    "# Giả sử status_analysis là một Spark DataFrame\n",
    "# 1. Tỷ lệ sinh viên theo trạng thái học tập\n",
    "status_summary = status_analysis.groupBy(\"Status\").sum(\"Total_Students\").orderBy(\"sum(Total_Students)\", ascending=False)\n",
    "\n",
    "# Thu thập kết quả từ Spark DataFrame\n",
    "status_data = status_summary.collect()\n",
    "\n",
    "# Tạo dữ liệu cho biểu đồ\n",
    "status_labels = [row['Status'] for row in status_data]\n",
    "status_values = [row['sum(Total_Students)'] for row in status_data]\n",
    "\n",
    "# Vẽ biểu đồ 1: Tỷ lệ sinh viên theo trạng thái học tập\n",
    "plt.figure(figsize=(8, 6))\n",
    "sns.barplot(x=status_labels, y=status_values)\n",
    "plt.title(\"Tỷ lệ sinh viên theo trạng thái học tập\")\n",
    "plt.xlabel(\"Trạng thái học tập\")\n",
    "plt.ylabel(\"Số lượng sinh viên\")\n",
    "plt.show()"
   ]
  },
  {
   "cell_type": "code",
   "execution_count": 68,
   "metadata": {},
   "outputs": [
    {
     "data": {
      "image/png": "[encoded data removed]",
      "text/plain": [
       "<Figure size 800x600 with 1 Axes>"
      ]
     },
     "metadata": {},
     "output_type": "display_data"
    }
   ],
   "source": [
    "# 2. Top 5 lớp học phần có nhiều sinh viên nhất\n",
    "top_courses_summary = top_courses.groupBy(\"Course_Name\").sum(\"Total_Students\").orderBy(\"sum(Total_Students)\", ascending=False)\n",
    "\n",
    "# Thu thập kết quả từ Spark DataFrame\n",
    "top_courses_data = top_courses_summary.collect()\n",
    "\n",
    "# Tạo dữ liệu cho biểu đồ\n",
    "top_courses_labels = [row['Course_Name'] for row in top_courses_data]\n",
    "top_courses_values = [row['sum(Total_Students)'] for row in top_courses_data]\n",
    "\n",
    "# Vẽ biểu đồ 2: Top 5 lớp học phần có nhiều sinh viên nhất\n",
    "plt.figure(figsize=(8, 6))\n",
    "sns.barplot(x=top_courses_values[:5], y=top_courses_labels[:5])\n",
    "plt.title(\"Top 5 lớp học phần có nhiều sinh viên nhất\")\n",
    "plt.xlabel(\"Số lượng sinh viên\")\n",
    "plt.ylabel(\"Tên lớp học phần\")\n",
    "plt.show()"
   ]
  },
  {
   "cell_type": "code",
   "execution_count": 69,
   "metadata": {},
   "outputs": [
    {
     "data": {
      "image/png": "[encoded data removed]",
      "text/plain": [
       "<Figure size 800x600 with 1 Axes>"
      ]
     },
     "metadata": {},
     "output_type": "display_data"
    }
   ],
   "source": [
    "# 3. Phân bổ phòng học khả dụng\n",
    "available_rooms_summary = available_rooms.groupBy(\"Room_ID\").sum(\"Capacity\").orderBy(\"sum(Capacity)\", ascending=False)\n",
    "\n",
    "# Thu thập kết quả từ Spark DataFrame\n",
    "available_rooms_data = available_rooms_summary.collect()\n",
    "\n",
    "# Tạo dữ liệu cho biểu đồ\n",
    "room_labels = [row['Room_ID'] for row in available_rooms_data]\n",
    "room_values = [row['sum(Capacity)'] for row in available_rooms_data]\n",
    "\n",
    "# Vẽ biểu đồ 3: Phân bổ phòng học khả dụng\n",
    "plt.figure(figsize=(8, 6))\n",
    "sns.barplot(x=room_labels, y=room_values)\n",
    "plt.title(\"Danh sách phòng học khả dụng\")\n",
    "plt.xlabel(\"Phòng học\")\n",
    "plt.ylabel(\"Sức chứa\")\n",
    "plt.show()"
   ]
  },
  {
   "cell_type": "code",
   "execution_count": 70,
   "metadata": {},
   "outputs": [
    {
     "data": {
      "image/png": "[encoded data removed]",
      "text/plain": [
       "<Figure size 800x600 with 1 Axes>"
      ]
     },
     "metadata": {},
     "output_type": "display_data"
    }
   ],
   "source": [
    "# 4. Tần suất sử dụng phòng học\n",
    "room_usage_summary = room_usage.groupBy(\"Room_ID\").sum(\"Usage_Frequency\").orderBy(\"sum(Usage_Frequency)\", ascending=False)\n",
    "\n",
    "# Thu thập kết quả từ Spark DataFrame\n",
    "room_usage_data = room_usage_summary.collect()\n",
    "\n",
    "# Tạo dữ liệu cho biểu đồ\n",
    "usage_labels = [row['Room_ID'] for row in room_usage_data]\n",
    "usage_values = [row['sum(Usage_Frequency)'] for row in room_usage_data]\n",
    "\n",
    "# Vẽ biểu đồ 4: Tần suất sử dụng phòng học\n",
    "plt.figure(figsize=(8, 6))\n",
    "sns.barplot(x=usage_values, y=usage_labels)\n",
    "plt.title(\"Tần suất sử dụng phòng học\")\n",
    "plt.xlabel(\"Số lần sử dụng\")\n",
    "plt.ylabel(\"Phòng học\")\n",
    "plt.show()"
   ]
  },
  {
   "cell_type": "code",
   "execution_count": 71,
   "metadata": {},
   "outputs": [
    {
     "data": {
      "image/png": "[encoded data removed]",
      "text/plain": [
       "<Figure size 800x600 with 1 Axes>"
      ]
     },
     "metadata": {},
     "output_type": "display_data"
    }
   ],
   "source": [
    "# 5. Trạng thái thiết bị đang hoạt động\n",
    "device_status_summary = device_status.groupBy(\"Device_Type\").sum(\"Total_Working\").orderBy(\"sum(Total_Working)\", ascending=False)\n",
    "\n",
    "# Thu thập kết quả từ Spark DataFrame\n",
    "device_status_data = device_status_summary.collect()\n",
    "\n",
    "# Tạo dữ liệu cho biểu đồ\n",
    "device_labels = [row['Device_Type'] for row in device_status_data]\n",
    "device_values = [row['sum(Total_Working)'] for row in device_status_data]\n",
    "\n",
    "# Vẽ biểu đồ 5: Trạng thái thiết bị đang hoạt động\n",
    "plt.figure(figsize=(8, 6))\n",
    "sns.barplot(x=device_labels, y=device_values)\n",
    "plt.title(\"Số lượng thiết bị đang hoạt động theo loại\")\n",
    "plt.xlabel(\"Loại thiết bị\")\n",
    "plt.ylabel(\"Số lượng\")\n",
    "plt.show()"
   ]
  },
  {
   "cell_type": "code",
   "execution_count": null,
   "metadata": {},
   "outputs": [],
   "source": []
  },
  {
   "cell_type": "markdown",
   "metadata": {},
   "source": [
    "Giải thích:\n",
    "\n",
    "    Thu thập Dữ liệu Spark: Dữ liệu từ Spark DataFrame được thu thập bằng phương thức .collect() để chuyển thành danh sách, sau đó được sử dụng để tạo các biểu đồ.\n",
    "    Biểu đồ: Mỗi biểu đồ được vẽ bằng cách sử dụng sns.barplot() với dữ liệu từ Spark DataFrame được chuyển thành các danh sách.\n",
    "    Trực tiếp với Spark: Không cần chuyển đổi sang Pandas để vẽ các biểu đồ, giúp giảm thiểu các vấn đề liên quan đến bộ nhớ khi làm việc với dữ liệu lớn.\n",
    "\n",
    "Lưu ý:\n",
    "\n",
    "    Đảm bảo rằng các tên cột (ví dụ: 'Status', 'Total_Students') trong mã trên trùng với tên cột trong DataFrame của bạn.\n",
    "    Nếu bạn có dữ liệu quá lớn, tránh sử dụng .collect() vì nó có thể gây tràn bộ nhớ. Trong trường hợp đó, bạn có thể thực hiện phân trang dữ liệu hoặc chỉ lấy một số ít kết quả."
   ]
  },
  {
   "cell_type": "markdown",
   "metadata": {},
   "source": []
  }
 ],
 "metadata": {
  "kernelspec": {
   "display_name": "my_env",
   "language": "python",
   "name": "python3"
  },
  "language_info": {
   "codemirror_mode": {
    "name": "ipython",
    "version": 3
   },
   "file_extension": ".py",
   "mimetype": "text/x-python",
   "name": "python",
   "nbconvert_exporter": "python",
   "pygments_lexer": "ipython3",
   "version": "3.12.3"
  }
 },
 "nbformat": 4,
 "nbformat_minor": 2
}
