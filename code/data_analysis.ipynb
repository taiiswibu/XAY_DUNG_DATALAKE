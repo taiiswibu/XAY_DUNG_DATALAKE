{
 "cells": [
  {
   "cell_type": "markdown",
   "metadata": {},
   "source": [
    "# a. Khởi động Spark Session:"
   ]
  },
  {
   "cell_type": "code",
   "execution_count": 4,
   "metadata": {},
   "outputs": [],
   "source": [
    "from pyspark.sql import SparkSession\n",
    "\n",
    "# Tạo SparkSession\n",
    "spark = SparkSession.builder \\\n",
    "    .appName(\"University Data Lake Analysis\") \\\n",
    "    .getOrCreate()\n",
    "\n",
    "\n"
   ]
  },
  {
   "cell_type": "markdown",
   "metadata": {},
   "source": [
    "# b. Đọc dữ liệu từ HDFS vào DataFrames:"
   ]
  },
  {
   "cell_type": "code",
   "execution_count": 5,
   "metadata": {},
   "outputs": [
    {
     "name": "stderr",
     "output_type": "stream",
     "text": [
      "                                                                                \r"
     ]
    },
    {
     "name": "stdout",
     "output_type": "stream",
     "text": [
      "root\n",
      " |-- Student_ID: integer (nullable = true)\n",
      " |-- Name: string (nullable = true)\n",
      " |-- Major: string (nullable = true)\n",
      " |-- Year: integer (nullable = true)\n",
      " |-- Status: string (nullable = true)\n",
      "\n",
      "+----------+--------------+----------------+----+--------+\n",
      "|Student_ID|          Name|           Major|Year|  Status|\n",
      "+----------+--------------+----------------+----+--------+\n",
      "|      2001|Nguyễn Văn Anh|Khoa học dữ liệu|   1|Inactive|\n",
      "|      2002|  Lê Thị Hương|Khoa học dữ liệu|   2|Inactive|\n",
      "|      2003|Trần Văn Khánh|Khoa học dữ liệu|   3|  Active|\n",
      "|      2004|  Phạm Thị Yến|Khoa học dữ liệu|   4|  Active|\n",
      "|      2005|Hoàng Minh Trí|Khoa học dữ liệu|   1|  Active|\n",
      "+----------+--------------+----------------+----+--------+\n",
      "only showing top 5 rows\n",
      "\n",
      "+---------+--------------------+-------+--------------------+\n",
      "|Course_ID|         Course_Name|Credits|          Instructor|\n",
      "+---------+--------------------+-------+--------------------+\n",
      "|    DS101|Nhập môn Khoa học...|      3|  TS. Nguyễn Thị Hoa|\n",
      "|    DS102|   Xử lý dữ liệu lớn|      4|   TS. Trần Văn Minh|\n",
      "|    DS103|   Phân tích dữ liệu|      3|PGS. TS. Lê Thị T...|\n",
      "|    DS104|      Học máy cơ bản|      4| TS. Nguyễn Văn Hùng|\n",
      "|    DS105|             Học sâu|      3|PGS. TS. Phạm Quố...|\n",
      "+---------+--------------------+-------+--------------------+\n",
      "only showing top 5 rows\n",
      "\n"
     ]
    }
   ],
   "source": [
    "students = spark.read.csv(\"hdfs://localhost:9000/data/students_expanded.csv\", header=True, inferSchema=True)\n",
    "courses = spark.read.csv(\"hdfs://localhost:9000/data/courses_expanded.csv\", header=True, inferSchema=True)\n",
    "rooms = spark.read.csv(\"hdfs://localhost:9000/data/rooms_expanded.csv\", header=True, inferSchema=True)\n",
    "devices = spark.read.csv(\"hdfs://localhost:9000/data/devices_expanded.csv\", header=True, inferSchema=True)\n",
    "logs = spark.read.csv(\"hdfs://localhost:9000/data/logs_expanded.csv\", header=True, inferSchema=True)\n",
    "\n",
    "# Hiển thị schema và một số dữ liệu\n",
    "students.printSchema()\n",
    "students.show(5)\n",
    "courses.show(5)"
   ]
  },
  {
   "cell_type": "markdown",
   "metadata": {},
   "source": [
    "# c. Phân tích dữ liệu:"
   ]
  },
  {
   "cell_type": "markdown",
   "metadata": {},
   "source": [
    "1. Phân tích tỷ lệ sinh viên theo trạng thái học tập:"
   ]
  },
  {
   "cell_type": "code",
   "execution_count": 6,
   "metadata": {},
   "outputs": [
    {
     "name": "stdout",
     "output_type": "stream",
     "text": [
      "+--------+-----+\n",
      "|  Status|count|\n",
      "+--------+-----+\n",
      "|  Active|    8|\n",
      "|Inactive|    2|\n",
      "+--------+-----+\n",
      "\n"
     ]
    }
   ],
   "source": [
    "students.groupBy(\"Status\").count().show()\n"
   ]
  },
  {
   "cell_type": "markdown",
   "metadata": {},
   "source": [
    "2. Xác định lớp học đông/ít sinh viên (mô phỏng):"
   ]
  },
  {
   "cell_type": "code",
   "execution_count": 7,
   "metadata": {},
   "outputs": [
    {
     "name": "stdout",
     "output_type": "stream",
     "text": [
      "+----------------+-----+\n",
      "|           Major|count|\n",
      "+----------------+-----+\n",
      "|Khoa học dữ liệu|   10|\n",
      "+----------------+-----+\n",
      "\n"
     ]
    }
   ],
   "source": [
    "students.groupBy(\"Major\").count().orderBy(\"count\", ascending=False).show()\n"
   ]
  },
  {
   "cell_type": "markdown",
   "metadata": {},
   "source": [
    "3.  Phân tích lịch sử sử dụng phòng học:"
   ]
  },
  {
   "cell_type": "code",
   "execution_count": 8,
   "metadata": {},
   "outputs": [
    {
     "name": "stdout",
     "output_type": "stream",
     "text": [
      "+-------+------------------+-----+\n",
      "|Room_ID|             Event|count|\n",
      "+-------+------------------+-----+\n",
      "|   C104|Device Maintenance|    1|\n",
      "|   C102|   Class Scheduled|    1|\n",
      "|   C203|   Class Scheduled|    1|\n",
      "|   C205|Device Maintenance|    1|\n",
      "|   C203|Device Maintenance|    1|\n",
      "|   C205|   Class Scheduled|    1|\n",
      "|   C102|Device Maintenance|    1|\n",
      "|   C201|   Class Scheduled|    1|\n",
      "|   C201|Device Maintenance|    1|\n",
      "|   C204|     Room Cleaning|    1|\n",
      "+-------+------------------+-----+\n",
      "\n"
     ]
    }
   ],
   "source": [
    "logs.groupBy(\"Room_ID\", \"Event\").count().show()\n",
    "\n"
   ]
  },
  {
   "cell_type": "markdown",
   "metadata": {},
   "source": [
    "# d. Lưu kết quả vào HDFS:"
   ]
  },
  {
   "cell_type": "code",
   "execution_count": 9,
   "metadata": {},
   "outputs": [
    {
     "name": "stderr",
     "output_type": "stream",
     "text": [
      "                                                                                \r"
     ]
    },
    {
     "name": "stdout",
     "output_type": "stream",
     "text": [
      "Found 2 items\n",
      "-rw-r--r--   3 vantai supergroup          0 2024-12-19 23:35 /data/output/student_status/_SUCCESS\n",
      "-rw-r--r--   3 vantai supergroup        743 2024-12-19 23:35 /data/output/student_status/part-00000-5915513f-2049-4b18-af7e-b12bc62e0a41-c000.snappy.parquet\n"
     ]
    }
   ],
   "source": [
    "result = students.groupBy(\"Status\").count()\n",
    "result.write.mode(\"overwrite\").parquet(\"hdfs://localhost:9000/data/output/student_status\")\n",
    "\n",
    "# Kiểm tra file kết quả trên HDFS\n",
    "!hdfs dfs -ls /data/output/student_status\n"
   ]
  },
  {
   "cell_type": "markdown",
   "metadata": {},
   "source": []
  },
  {
   "cell_type": "code",
   "execution_count": 10,
   "metadata": {},
   "outputs": [
    {
     "name": "stderr",
     "output_type": "stream",
     "text": [
      "24/12/19 23:35:59 WARN package: Truncated the string representation of a plan since it was too large. This behavior can be adjusted by setting 'spark.sql.debug.maxToStringFields'.\n"
     ]
    },
    {
     "name": "stdout",
     "output_type": "stream",
     "text": [
      "+-------+------------------+--------------+----------------+------------------+--------+\n",
      "|summary|        Student_ID|          Name|           Major|              Year|  Status|\n",
      "+-------+------------------+--------------+----------------+------------------+--------+\n",
      "|  count|                10|            10|              10|                10|      10|\n",
      "|   mean|            2005.5|          null|            null|               2.3|    null|\n",
      "| stddev|3.0276503540974917|          null|            null|1.1595018087284057|    null|\n",
      "|    min|              2001|  Bùi Thị Thảo|Khoa học dữ liệu|                 1|  Active|\n",
      "|    max|              2010|Đặng Quang Huy|Khoa học dữ liệu|                 4|Inactive|\n",
      "+-------+------------------+--------------+----------------+------------------+--------+\n",
      "\n"
     ]
    },
    {
     "name": "stderr",
     "output_type": "stream",
     "text": [
      "                                                                                \r"
     ]
    }
   ],
   "source": [
    "students.describe().show()"
   ]
  },
  {
   "cell_type": "code",
   "execution_count": null,
   "metadata": {},
   "outputs": [],
   "source": []
  }
 ],
 "metadata": {
  "kernelspec": {
   "display_name": "my_env",
   "language": "python",
   "name": "python3"
  },
  "language_info": {
   "codemirror_mode": {
    "name": "ipython",
    "version": 3
   },
   "file_extension": ".py",
   "mimetype": "text/x-python",
   "name": "python",
   "nbconvert_exporter": "python",
   "pygments_lexer": "ipython3",
   "version": "3.12.3"
  }
 },
 "nbformat": 4,
 "nbformat_minor": 2
}
